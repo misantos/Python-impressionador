{
 "cells": [
  {
   "cell_type": "markdown",
   "metadata": {},
   "source": [
    "# Exercícios\n",
    "\n",
    "## 1. Faturamento do Melhor e do Pior Mês do Ano\n",
    "\n",
    "Qual foi o valor de vendas do melhor mês do Ano?\n",
    "E valor do pior mês do ano?"
   ]
  },
  {
   "cell_type": "code",
   "execution_count": 15,
   "metadata": {},
   "outputs": [
    {
     "name": "stdout",
     "output_type": "stream",
     "text": [
      "O melhor mes foi nov e faturou R$ 49,051\n",
      "O pior mes foi dez e faturou R$ 9,650\n"
     ]
    }
   ],
   "source": [
    "meses = ['jan', 'fev', 'mar', 'abr', 'mai', 'jun', 'jul', 'ago', 'set', 'out', 'nov', 'dez']\n",
    "vendas_1sem = [25000, 29000, 22200, 17750, 15870, 19900]\n",
    "vendas_2sem = [19850, 20120, 17540, 15555, 49051, 9650]\n",
    "\n",
    "vendas_ano = vendas_1sem + vendas_2sem\n",
    "#print(vendas_ano)\n",
    "\n",
    "melhor_valor = max(vendas_ano)\n",
    "pior_valor = min(vendas_ano)\n",
    "#print(melhor_mes, pior_mes)\n",
    "\n",
    "i = vendas_ano.index(melhor_valor)\n",
    "mes_melhor = meses[i]\n",
    "#print(mes_melhor)\n",
    "i = vendas_ano.index(pior_valor)\n",
    "mes_pior = meses[i]\n",
    "#print(mes_pior)\n",
    "\n",
    "print('O melhor mes foi {} e faturou R$ {:,}'.format(mes_melhor, melhor_valor))\n",
    "print('O pior mes foi {} e faturou R$ {:,}'.format( mes_pior, pior_valor))"
   ]
  },
  {
   "cell_type": "markdown",
   "metadata": {},
   "source": [
    "## 2. Continuação\n",
    "\n",
    "Agora relacione as duas listas para printar 'O melhor mês do ano foi {} com {} vendas' e o mesmo para o pior mês do ano.\n",
    "\n",
    "Calcule também o faturamento total do Ano e quanto que o melhor mês representou do faturamento total.\n",
    "\n",
    "Obs: Para o faturamento total, pode usar a função sum(lista) que soma todos os itens de uma lista"
   ]
  },
  {
   "cell_type": "code",
   "execution_count": 18,
   "metadata": {},
   "outputs": [
    {
     "name": "stdout",
     "output_type": "stream",
     "text": [
      "261,486\n",
      "18.8%\n"
     ]
    }
   ],
   "source": [
    "faturamento_total = sum(vendas_ano)\n",
    "print('{:,}'.format(faturamento_total))\n",
    "\n",
    "percentual = melhor_valor / faturamento_total\n",
    "print('{:.1%}'.format(percentual))"
   ]
  },
  {
   "cell_type": "markdown",
   "metadata": {},
   "source": [
    "## 3. Crie uma lista com o top 3 valores de vendas do ano (sem fazer \"no olho\")\n",
    "\n",
    "Dica: o método remove retira um item da lista."
   ]
  },
  {
   "cell_type": "code",
   "execution_count": 21,
   "metadata": {},
   "outputs": [
    {
     "name": "stdout",
     "output_type": "stream",
     "text": [
      "[49051, 29000, 25000, 22200, 20120, 19900, 19850, 17750, 17540, 15870, 15555, 9650]\n",
      "[49051, 29000, 25000]\n"
     ]
    }
   ],
   "source": [
    "vendas_ano.sort(reverse=True)\n",
    "print(vendas_ano)\n",
    "\n",
    "top3 = []\n",
    "top3.append(vendas_ano[0])\n",
    "top3.append(vendas_ano[1])\n",
    "top3.append(vendas_ano[2])\n",
    "print(top3)\n",
    "\n"
   ]
  },
  {
   "cell_type": "code",
   "execution_count": null,
   "metadata": {},
   "outputs": [],
   "source": []
  }
 ],
 "metadata": {
  "kernelspec": {
   "display_name": "Python 3 (ipykernel)",
   "language": "python",
   "name": "python3"
  },
  "language_info": {
   "codemirror_mode": {
    "name": "ipython",
    "version": 3
   },
   "file_extension": ".py",
   "mimetype": "text/x-python",
   "name": "python",
   "nbconvert_exporter": "python",
   "pygments_lexer": "ipython3",
   "version": "3.9.12"
  }
 },
 "nbformat": 4,
 "nbformat_minor": 4
}
