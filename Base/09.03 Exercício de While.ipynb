{
 "cells": [
  {
   "cell_type": "markdown",
   "metadata": {},
   "source": [
    "# Exercícios\n",
    "\n",
    "## 1. Input até o usuário parar\n",
    "\n",
    "Vamos criar um sistema de vendas. Nosso programa deve registrar os produtos e as quantidades (2 inputs) e adicionar em uma lista.\n",
    "\n",
    "O programa deve continuar rodando até o input ser vazio, ou seja, o usuário apertar enter sem digitar nenhum produto ou quantidade.\n",
    "\n",
    "Ao final do programa, ele deve printar todos os produtos e quantidades vendidas.\n",
    "\n",
    "Obs: Caso queira, para o print ficar mais visual, pode usar o join para cada item ser printado em uma linha.\n",
    "Sugestão para sua lista de produtos vendidos:"
   ]
  },
  {
   "cell_type": "raw",
   "metadata": {},
   "source": [
    "vendas = [\n",
    "    ['maçã', 5],\n",
    "    ['banana', 15],\n",
    "    ['azeite', 1],\n",
    "    ['vinho', 3],\n",
    "]"
   ]
  },
  {
   "cell_type": "code",
   "execution_count": 2,
   "metadata": {},
   "outputs": [
    {
     "name": "stdout",
     "output_type": "stream",
     "text": [
      "Digite o produto: banana\n",
      "Digite a quantidade: 3\n",
      "Digite o produto: waffles\n",
      "Digite a quantidade: 5\n",
      "Digite o produto: sopa\n",
      "Digite a quantidade: 5\n",
      "Digite o produto: melancia\n",
      "Digite a quantidade: 10\n",
      "Digite o produto: \n",
      "Digite a quantidade: 6\n",
      "Digite o produto: \n",
      "Digite a quantidade: \n",
      "[['banana', '3', 'waffles', '5', 'sopa', '5', 'melancia', '10', '', '6'], ['banana', '3', 'waffles', '5', 'sopa', '5', 'melancia', '10', '', '6'], ['banana', '3', 'waffles', '5', 'sopa', '5', 'melancia', '10', '', '6'], ['banana', '3', 'waffles', '5', 'sopa', '5', 'melancia', '10', '', '6'], ['banana', '3', 'waffles', '5', 'sopa', '5', 'melancia', '10', '', '6']]\n"
     ]
    }
   ],
   "source": [
    "#seu código aqui\n",
    "vendas = []\n",
    "produto = input('Digite o produto: ')\n",
    "quantidade = input('Digite a quantidade: ')\n",
    "\n",
    "while produto != '' or quantidade != '':\n",
    "    vendas.append([produto,quantidade])\n",
    "    produto = input('Digite o produto: ')\n",
    "    quantidade = input('Digite a quantidade: ')\n",
    "\n",
    "print(vendas)"
   ]
  },
  {
   "cell_type": "code",
   "execution_count": 3,
   "metadata": {},
   "outputs": [
    {
     "name": "stdout",
     "output_type": "stream",
     "text": [
      "Digite o produto: chocolate\n",
      "Digite a quantidade: 6\n",
      "Digite o produto: cacau\n",
      "Digite a quantidade: 10\n",
      "Digite o produto: uva\n",
      "Digite a quantidade: 2\n",
      "Digite o produto: bolacha\n",
      "Digite a quantidade: 2\n",
      "Digite o produto: arroz\n",
      "Digite a quantidade: 4\n",
      "Digite o produto: feijao\n",
      "Digite a quantidade: 5\n",
      "Digite o produto: macarrao\n",
      "Digite a quantidade: 4\n",
      "Digite o produto: suco\n",
      "Digite a quantidade: 32\n",
      "Digite o produto: \n",
      "[['chocolate', '6'], ['cacau', '10'], ['uva', '2'], ['bolacha', '2'], ['arroz', '4'], ['feijao', '5'], ['macarrao', '4'], ['suco', '32']]\n"
     ]
    }
   ],
   "source": [
    "# jeito mais certo de fazer\n",
    "vendas = []\n",
    "\n",
    "while True:\n",
    "    produto = input('Digite o produto: ')\n",
    "    if not produto:\n",
    "        break\n",
    "    quantidade = input('Digite a quantidade: ')\n",
    "    vendas.append([produto,quantidade])\n",
    "    \n",
    "print(vendas)"
   ]
  },
  {
   "cell_type": "markdown",
   "metadata": {},
   "source": [
    "### Obs: Podemos fazer o While de 2 maneiras:\n",
    "\n",
    "1. While com a condição que finalize o programa\n",
    "2. While rodando para sempre, mas com uma condição dentro do while que dê um break no código.\n",
    "\n",
    "Vamos mostrar as 2 opções"
   ]
  }
 ],
 "metadata": {
  "kernelspec": {
   "display_name": "Python 3 (ipykernel)",
   "language": "python",
   "name": "python3"
  },
  "language_info": {
   "codemirror_mode": {
    "name": "ipython",
    "version": 3
   },
   "file_extension": ".py",
   "mimetype": "text/x-python",
   "name": "python",
   "nbconvert_exporter": "python",
   "pygments_lexer": "ipython3",
   "version": "3.9.12"
  }
 },
 "nbformat": 4,
 "nbformat_minor": 4
}
