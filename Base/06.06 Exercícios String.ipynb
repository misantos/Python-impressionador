{
 "cells": [
  {
   "cell_type": "markdown",
   "metadata": {},
   "source": [
    "# Exercícios\n",
    "\n",
    "## 1. Cadastro de CPF\n",
    "\n",
    "Crie um programa para cadastro de CPF de clientes que recebe o CPF em um input box apenas com números.\n",
    "\n",
    "Ex: 'Insira seu CPF (digite apenas números)'\n",
    "\n",
    "Caso o usuário digite algo diferente de números ou digite menos de 11 caracteres (tamanho do CPF brasileiro), o programa deve exibir uma mensagem de \"Digite seu CPF corretamente e digite apenas números\""
   ]
  },
  {
   "cell_type": "code",
   "execution_count": 5,
   "metadata": {},
   "outputs": [
    {
     "name": "stdout",
     "output_type": "stream",
     "text": [
      "Digite seu cpf: 444545454545216564\n",
      "Digite seu CPF corretamente e digite apenas números\n"
     ]
    }
   ],
   "source": [
    "cpf = input('Digite seu cpf: ')\n",
    "if not cpf.isnumeric() or len(cpf) == 11:\n",
    "    print('Digite seu CPF corretamente e digite apenas números')\n",
    "else:\n",
    "    print('ok')"
   ]
  },
  {
   "cell_type": "markdown",
   "metadata": {},
   "source": [
    "## 2. Melhorando nosso Cadastro de CPF\n",
    "\n",
    "Agora, além das validações anteriores, vamos criar um input que permita que o usuário insira pontos, traços e inclusive espaços vazios.\n",
    "\n",
    "Nosso programa deve \"tratar\" o que o usuário inserir para padronizar o CPF dele em apenas números.\n",
    "\n",
    "A verificação de tamanho do CPF com 11 caracteres continua válida, mas ela só deve ser feita depois de retirar todos os pontos, traços e espaços do CPF que o cliente inserir e, uma vez retirados pontos, traços e espaços, devem sobrar apenas números no CPF. Qualquer outro caractere deve ser considerado inválido.\n",
    "\n",
    "No final, nosso programa deve exibir uma mensagem para o usuário, caso ele tenha inserido o CPF inválido ou então apenas deve printar o CPF correto já só com número."
   ]
  },
  {
   "cell_type": "code",
   "execution_count": 17,
   "metadata": {},
   "outputs": [
    {
     "name": "stdout",
     "output_type": "stream",
     "text": [
      "Digite seu cpf: 118169/kj\n",
      "118169/kj\n",
      "cpf invalido\n",
      "118169/kj\n"
     ]
    }
   ],
   "source": [
    "cpf = input('Digite seu cpf: ')\n",
    "print(cpf)\n",
    "if '.' in cpf:\n",
    "    cpf = cpf.replace('.', '')\n",
    "if '-' in cpf:\n",
    "    cpf = cpf.replace('-', '')\n",
    "if ' ' in cpf:\n",
    "    cpf = cpf.strip()\n",
    "if len(cpf) != 11 and not cpf.isnumeric():\n",
    "    print('cpf invalido')\n",
    "print(cpf)"
   ]
  },
  {
   "cell_type": "markdown",
   "metadata": {},
   "source": [
    "## 3. Cadastro de e-mails\n",
    "\n",
    "- A Hashtag sempre se comunica com seus clientes por e-mail. Para isso, a gente tem em cada página um cadastro de nome e e-mail. Nesse cadastro, nosso sistema verifica se o e-mail que a pessoa inseriu é um e-mail válido, verificando se ele tem '@' e se depois do '@' tem algum ponto, afinal:\n",
    "\n",
    "- liragmail.com NÃO é um e-mail válido\n",
    "- lira@gmail NÃO é um e-mail válido\n",
    "- lira@gmail.com é um e-mail válido\n",
    "\n",
    "Crie um programa que permita o cadastro de nome e e-mail de uma pessoa (por meio de inputs) e que verifique:\n",
    "1. Se nome e e-mail foram preenchidos, caso contrário ele deve avisar para preencher todos os dados corretamente\n",
    "2. Se o e-mail contém '@' e se depois do '@' existe algum '.', caso contrário ele deve exibir uma mensagem de e-mail inválido\n",
    "\n",
    "Obs: Pode te ajudar lembrar do método .find da aula de Métodos de String. Você pode testar o que ele dá como resposta caso ele não encontre um item dentro da string"
   ]
  },
  {
   "cell_type": "code",
   "execution_count": 25,
   "metadata": {},
   "outputs": [
    {
     "name": "stdout",
     "output_type": "stream",
     "text": [
      "1\n"
     ]
    }
   ],
   "source": [
    "email = 'milenalucassantos@gmail.com'\n",
    "print(email[-5:].find('.'))"
   ]
  },
  {
   "cell_type": "code",
   "execution_count": 31,
   "metadata": {},
   "outputs": [
    {
     "name": "stdout",
     "output_type": "stream",
     "text": [
      "Digite o nome: mii]\n",
      "Digite o email: miigmail.com\n",
      "email invalido\n"
     ]
    }
   ],
   "source": [
    "nome = input('Digite o nome: ')\n",
    "email = input('Digite o email: ')\n",
    "\n",
    "if nome and email:\n",
    "    if email.find('@') != -1:\n",
    "        if email[-5:].find('.') != -1:\n",
    "            print(nome, email)\n",
    "        else:\n",
    "            print('email invalido')\n",
    "    else:\n",
    "        print('email invalido')\n",
    "else:\n",
    "    print('preecha os dados')"
   ]
  },
  {
   "cell_type": "code",
   "execution_count": null,
   "metadata": {},
   "outputs": [],
   "source": []
  }
 ],
 "metadata": {
  "kernelspec": {
   "display_name": "Python 3 (ipykernel)",
   "language": "python",
   "name": "python3"
  },
  "language_info": {
   "codemirror_mode": {
    "name": "ipython",
    "version": 3
   },
   "file_extension": ".py",
   "mimetype": "text/x-python",
   "name": "python",
   "nbconvert_exporter": "python",
   "pygments_lexer": "ipython3",
   "version": "3.9.12"
  }
 },
 "nbformat": 4,
 "nbformat_minor": 4
}
