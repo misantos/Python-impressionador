{
 "cells": [
  {
   "cell_type": "markdown",
   "id": "2b04bbea",
   "metadata": {
    "id": "2b04bbea"
   },
   "source": [
    "# Listas\n",
    "\n",
    "<span style=\"color: red;\"><b>Todos os exercícios são feitos partindo-se do pressuposto de que todas as entradas são dadas de forma correta. Casos limite não mencionados no enunciado não são abordados porque não fazem parte do exercício.</b></span>"
   ]
  },
  {
   "cell_type": "markdown",
   "id": "dcb81b29",
   "metadata": {
    "id": "dcb81b29"
   },
   "source": [
    "#### 1. Faça um Programa que leia as vendas dos vendedores, mostre a venda de cada vendedor com o seu nome e a média de vendas. "
   ]
  },
  {
   "cell_type": "code",
   "execution_count": 3,
   "id": "09c0d2b3",
   "metadata": {
    "id": "09c0d2b3"
   },
   "outputs": [
    {
     "name": "stdout",
     "output_type": "stream",
     "text": [
      "Fulano 1000\n",
      "Beltrano 1500\n",
      "Ciclano 1200\n",
      "Lira 1300\n",
      "1250.0\n"
     ]
    }
   ],
   "source": [
    "vendas = [1000, 1500, 1200, 1300]\n",
    "vendedores = [\"Fulano\", \"Beltrano\", \"Ciclano\", \"Lira\"]\n",
    "sum=0\n",
    "for i, venda in enumerate(vendas):\n",
    "    print(vendedores[i], venda)\n",
    "    sum += venda\n",
    "print(sum / len(vendas))"
   ]
  },
  {
   "cell_type": "markdown",
   "id": "cbda91b3",
   "metadata": {
    "id": "cbda91b3"
   },
   "source": [
    "#### 2. Faça um Programa que crie uma lista com as médias de cada aluno, imprima as médias de cada aluno e a quantidade de alunos com média maior que 7."
   ]
  },
  {
   "cell_type": "code",
   "execution_count": 14,
   "id": "c93dd233",
   "metadata": {
    "id": "c93dd233"
   },
   "outputs": [
    {
     "name": "stdout",
     "output_type": "stream",
     "text": [
      "Aluno: José, media: 8.75\n",
      "Aluno: Joana, media: 6.5\n",
      "Aluno: Maria, media: 10.0\n",
      "Aluno: Carla, media: 6.75\n",
      "Aluno: Mauricio, media: 6.25\n",
      "Aluno: Andre, media: 7.25\n",
      "Aluno: Tiago, media: 7.5\n",
      "Aluno: Enzo, media: 6.5\n",
      "Aluno: Amanda, media: 7.5\n",
      "Aluno: Alessandra, media: 4.25\n",
      "5\n"
     ]
    }
   ],
   "source": [
    "alunos = [\"José\", \"Joana\", \"Maria\", \"Carla\", \"Mauricio\", \"Andre\", \"Tiago\", \"Enzo\", \"Amanda\", \"Alessandra\"]\n",
    "notas = [\n",
    "    [10, 9, 8, 8],\n",
    "    [9, 7, 6, 4],\n",
    "    [10, 10, 10, 10],\n",
    "    [5, 3, 10, 9],\n",
    "    [7, 6, 6, 6],\n",
    "    [7, 7, 8, 7],\n",
    "    [7, 7, 7, 9],\n",
    "    [8, 5, 6, 7],\n",
    "    [10, 9, 7, 4],\n",
    "    [10, 1, 3, 3],\n",
    "]\n",
    "count = 0\n",
    "media = []\n",
    "for i, nota in enumerate(notas):\n",
    "    sum = 0\n",
    "    for n in nota:\n",
    "        sum += n\n",
    "    #print(sum)\n",
    "    media.append(sum / len(nota))\n",
    "    if media[i] > 7:\n",
    "        count += 1\n",
    "    print('Aluno: {}, media: {}'.format(alunos[i], media[i]))\n",
    "print(count)"
   ]
  },
  {
   "cell_type": "markdown",
   "id": "c3068a53",
   "metadata": {
    "id": "c3068a53"
   },
   "source": [
    "#### 3. Foram anotadas as idades e salários de 30 funcionários. Faça um programa que determine quantos funcionários com mais de 25 anos possuem salário inferior à média de todos os salários."
   ]
  },
  {
   "cell_type": "code",
   "execution_count": 25,
   "id": "0308566d",
   "metadata": {
    "id": "0308566d",
    "scrolled": true
   },
   "outputs": [
    {
     "name": "stdout",
     "output_type": "stream",
     "text": [
      "3319.8\n",
      "12\n"
     ]
    }
   ],
   "source": [
    "idades = [35,32,50,33,48,50,33,48,22,49,35,38,20,47,49,48,34,21,48,44,48,30,25,42,42,23,25,23,38,35]\n",
    "salarios = [3739,2219,3554,3978,4014,3270,4792,3879,2981,2384,4826,2460,3680,4318,1872,1770,4640,3929,3295,1729,3965,4267,4007,1916,2987,2943,3852,4543,2055,1730]\n",
    "\n",
    "media = 0\n",
    "sum = 0\n",
    "for sal in salarios:\n",
    "    sum += sal\n",
    "media = (sum / len(salarios))\n",
    "print(media)\n",
    "\n",
    "idade_25 = []\n",
    "salarios_25 = []\n",
    "#print(len(idades), len(salarios))\n",
    "for i, idad in enumerate(idades):\n",
    "    if idad > 25:\n",
    "        idade_25.append(idad)\n",
    "        salarios_25.append(salarios[i])\n",
    "\n",
    "count = 0\n",
    "for i, sal in enumerate(salarios_25):\n",
    "    #print('{}, {}\\n'.format(idade_25[i],sal))\n",
    "    if sal < media:\n",
    "        count += 1\n",
    "#print(len(idade_25), len(salarios_25))\n",
    "print(count)"
   ]
  },
  {
   "cell_type": "markdown",
   "id": "1611081b",
   "metadata": {
    "id": "1611081b"
   },
   "source": [
    "#### 4.Em quais meses a média de temperatura foi maior do que a média nacional?"
   ]
  },
  {
   "cell_type": "code",
   "execution_count": 27,
   "id": "62f72e2b",
   "metadata": {
    "id": "62f72e2b"
   },
   "outputs": [
    {
     "name": "stdout",
     "output_type": "stream",
     "text": [
      "25.833333333333332\n",
      "Janeiro\n",
      "Fevereiro\n",
      "Março\n",
      "Abril\n",
      "Junho\n",
      "Novembro\n",
      "Dezembro\n"
     ]
    }
   ],
   "source": [
    "meses = [\n",
    "    'Janeiro',\n",
    "    'Fevereiro',\n",
    "    'Março',\n",
    "    'Abril',\n",
    "    'Maio',\n",
    "    'Junho',\n",
    "    'Julho',\n",
    "    'Agosto',\n",
    "    'Setembro',\n",
    "    'Outubro',\n",
    "    'Novembro',\n",
    "    'Dezembro'\n",
    "]\n",
    "sum = 0\n",
    "temperaturas = [30, 29, 28, 28, 25, 26, 20, 21, 19, 25, 27, 32]\n",
    "for temp in temperaturas:\n",
    "    sum += temp\n",
    "media = sum / len(temperaturas)\n",
    "print(media)\n",
    "\n",
    "for i, temp in enumerate(temperaturas):\n",
    "    if temp > media:\n",
    "        print(meses[i])"
   ]
  },
  {
   "cell_type": "markdown",
   "id": "8946af31",
   "metadata": {
    "id": "8946af31"
   },
   "source": [
    "#### 5. As Organizações Tabajara resolveram dar um abono aos seus colaboradores em reconhecimento ao bom resultado alcançado durante o ano que passou. Para isto contratou você para desenvolver a aplicação que servirá como uma projeção de quanto será gasto com o pagamento deste abono.\n",
    "<pre>Após reuniões envolvendo a diretoria executiva, a diretoria financeira e os representantes do sindicato laboral, chegou-se a seguinte forma de cálculo:\n",
    ". Cada funcionário receberá o equivalente a 20% do seu salário bruto de dezembro;\n",
    ". O piso do abono será de 100 reais, isto é, aqueles funcionários cujo salário for muito baixo, recebem este valor mínimo; \n",
    "\n",
    "Neste momento, não se deve ter nenhuma preocupação com colaboradores com tempo menor de casa, descontos, impostos ou outras particularidades. O programa deverá calcular o valor do abono concedido a cada colaborador, de acordo com a regra definida acima. Ao final, o programa deverá apresentar:</pre>\n",
    "<pre>\n",
    "O salário de cada funcionário, juntamente com o valor do abono;\n",
    "O número total de funcionário processados;\n",
    "O valor total a ser gasto com o pagamento do abono;\n",
    "O número de funcionário que receberá o valor mínimo de 100 reais;\n",
    "O maior valor pago como abono; A tela abaixo é um exemplo de execução do programa, apenas para fins ilustrativos.\n",
    "<pre>\n",
    "Projeção de Gastos com Abono\n",
    "============================ \n",
    " \n",
    "Salário: 1000\n",
    "Salário: 300\n",
    "Salário: 500\n",
    "Salário: 100\n",
    "Salário: 4500\n",
    "Salário: 0\n",
    " \n",
    "Salário    - Abono     \n",
    "R$ 1000.00 - R$  200.00\n",
    "R$  300.00 - R$  100.00\n",
    "R$  500.00 - R$  100.00\n",
    "R$  100.00 - R$  100.00\n",
    "R$ 4500.00 - R$  900.00\n",
    " \n",
    "Foram processados 5 colaboradores\n",
    "Total gasto com abonos: R$ 1400.00\n",
    "Valor mínimo pago a 3 colaboradores\n",
    "Maior valor de abono pago: R$ 900.00"
   ]
  },
  {
   "cell_type": "code",
   "execution_count": 41,
   "id": "fadbcfb2",
   "metadata": {
    "id": "fadbcfb2"
   },
   "outputs": [
    {
     "name": "stdout",
     "output_type": "stream",
     "text": [
      "Salario:  1,000\n",
      "Salario:  300\n",
      "Salario:  500\n",
      "Salario:  200\n",
      "Salario:  1,500\n",
      "Salario:  3,000\n",
      "Salario:  3,400\n",
      "Salario:  5,000\n",
      "Salario:  7,000\n",
      "Salario:  2,000\n",
      "Salario:  600\n",
      "Salario:  800\n",
      "Salario:  250\n",
      "Salario:  1,500\n",
      "Salario:  20,000\n",
      "\n",
      "\n",
      "Salario:  R$ 1,000 - Abono:  R$ 200.0\n",
      "Salario:  R$ 300 - Abono:  R$ 100.0\n",
      "Salario:  R$ 500 - Abono:  R$ 100.0\n",
      "Salario:  R$ 200 - Abono:  R$ 100.0\n",
      "Salario:  R$ 1,500 - Abono:  R$ 300.0\n",
      "Salario:  R$ 3,000 - Abono:  R$ 600.0\n",
      "Salario:  R$ 3,400 - Abono:  R$ 680.0\n",
      "Salario:  R$ 5,000 - Abono:  R$ 1000.0\n",
      "Salario:  R$ 7,000 - Abono:  R$ 1400.0\n",
      "Salario:  R$ 2,000 - Abono:  R$ 400.0\n",
      "Salario:  R$ 600 - Abono:  R$ 120.0\n",
      "Salario:  R$ 800 - Abono:  R$ 160.0\n",
      "Salario:  R$ 250 - Abono:  R$ 100.0\n",
      "Salario:  R$ 1,500 - Abono:  R$ 300.0\n",
      "Salario:  R$ 20,000 - Abono:  R$ 4000.0\n",
      "\n",
      "\n",
      "Foram processados 15 colaboradores\n",
      "Total gasto com abonos: R$ 9560.0\n",
      "Valor mínimo pago a 4 colaboradores\n",
      "Maior valor de abono pago: R$ 4000.0\n"
     ]
    }
   ],
   "source": [
    "lista_salarios = [1000, 300, 500, 200, 1500, 3000, 3400, 5000, 7000, 2000, 600, 800, 250, 1500, 20000]\n",
    "abonos = []\n",
    "\n",
    "for lista in lista_salarios:\n",
    "    print('Salario:  {:,}'.format(lista))\n",
    "print('\\n')\n",
    "count = 0\n",
    "for i,lista in enumerate(lista_salarios):\n",
    "    #print('Salario:  {:,}'.format(lista))\n",
    "    if lista <= 500:\n",
    "        abonos.append(100.0)\n",
    "        count += 1\n",
    "    else:\n",
    "        abonos.append(lista*0.2)\n",
    "    print('Salario:  R$ {:,} - Abono:  R$ {}'.format(lista, abonos[i]))\n",
    "\n",
    "print('\\n')\n",
    "print('Foram processados {} colaboradores'.format(len(abonos)))\n",
    "maior = 0  \n",
    "soma = 0\n",
    "for abono in abonos:\n",
    "    soma += abono\n",
    "    if abono > maior:\n",
    "        maior = abono\n",
    "        \n",
    "\n",
    "print('Total gasto com abonos: R$ {}'.format(soma))\n",
    "print('Valor mínimo pago a {} colaboradores'.format(count))\n",
    "print('Maior valor de abono pago: R$ {}'.format(maior))"
   ]
  },
  {
   "cell_type": "markdown",
   "id": "382b0981",
   "metadata": {
    "id": "382b0981"
   },
   "source": [
    "#### 6. Faça um programa que carregue uma lista com os modelos de cinco carros (exemplo de modelos: FUSCA, GOL, VECTRA etc). Carregue uma outra lista com o consumo desses carros, isto é, quantos quilômetros cada um desses carros faz com um litro de combustível. Calcule e mostre:\n",
    "<pre>\n",
    "a. O modelo do carro mais econômico;\n",
    "b. Quantos litros de combustível cada um dos carros cadastrados consome para percorrer uma distância de 1000 quilômetros e quanto isto custará, considerando um que a gasolina custe R$ 2,25 o litro. Abaixo segue uma tela de exemplo. O disposição das informações deve ser o mais próxima possível ao exemplo. Os dados são fictícios e podem mudar a cada execução do programa.</pre>\n",
    "```\n",
    "Comparativo de Consumo de Combustível\n",
    "\n",
    "Veículo 1\n",
    "Nome: fusca\n",
    "Km por litro: 7\n",
    "Veículo 2\n",
    "Nome: gol\n",
    "Km por litro: 10\n",
    "Veículo 3\n",
    "Nome: uno\n",
    "Km por litro: 12.5\n",
    "Veículo 4\n",
    "Nome: Vectra\n",
    "Km por litro: 9\n",
    "Veículo 5\n",
    "Nome: Peugeout\n",
    "Km por litro: 14.5\n",
    "\n",
    "Relatório Final\n",
    " 1 - fusca           -    7.0 -  142.9 litros - R$ 321.43\n",
    " 2 - gol             -   10.0 -  100.0 litros - R$ 225.00\n",
    " 3 - uno             -   12.5 -   80.0 litros - R$ 180.00\n",
    " 4 - vectra          -    9.0 -  111.1 litros - R$ 250.00\n",
    " 5 - peugeout        -   14.5 -   69.0 litros - R$ 155.17\n",
    "O menor consumo é do peugeout.\n",
    "```"
   ]
  },
  {
   "cell_type": "code",
   "execution_count": 53,
   "id": "6b6c8b06",
   "metadata": {
    "id": "6b6c8b06"
   },
   "outputs": [
    {
     "name": "stdout",
     "output_type": "stream",
     "text": [
      "Comparativo de Consumo de Combustível\n",
      "Relatório Final\n",
      "0 - fusca       -    7 - 142.9 litros - R$ 321.43\n",
      "1 - gol       -    10 - 100.0 litros - R$ 225.00\n",
      "2 - uno       -    12.5 - 80.0 litros - R$ 180.00\n",
      "3 - vectra       -    9 - 111.1 litros - R$ 250.00\n",
      "4 - peugeot       -    14.5 - 69.0 litros - R$ 155.17\n",
      "O menor consumo é do peugeot\n"
     ]
    }
   ],
   "source": [
    "print('Comparativo de Consumo de Combustível')\n",
    "veiculos = ['fusca',' gol', 'uno', 'vectra', 'peugeot']\n",
    "autonomias = [7, 10, 12.5, 9, 14.5]\n",
    "\n",
    "litros = []\n",
    "gasto = []\n",
    "menor = 10000000\n",
    "menor_carro = ''\n",
    "for i, autonomia in enumerate(autonomias) :\n",
    "    litros.append(1000 / autonomia)\n",
    "    gasto.append(litros[i] * 2.25)\n",
    "    if  gasto[i] < menor:\n",
    "        menor = gasto[i]\n",
    "        menor_carro = veiculos[i]\n",
    "#print(litros)\n",
    "#print(gasto)\n",
    "#print(menor)\n",
    "print('Relatório Final')\n",
    "for i, veiculo in enumerate(veiculos):\n",
    "    \n",
    "    print('{} - {}       -    {} - {:.1f} litros - R$ {:.2f}'.format(i,veiculo.strip(), autonomias[i], litros[i], gasto[i]))\n",
    "print('O menor consumo é do {}'.format(menor_carro))"
   ]
  },
  {
   "cell_type": "markdown",
   "id": "1d0260a3",
   "metadata": {
    "id": "1d0260a3"
   },
   "source": [
    "#### 7. Uma empresa paga seus vendedores com base em comissões. O vendedor recebe \\\\$200 por semana mais 9 por cento de suas vendas brutas daquela semana. Por exemplo, um vendedor que teve vendas brutas de \\\\$3000 em uma semana recebe \\\\$200 mais 9 por cento de \\\\$3000, ou seja, um total de \\\\$470. Escreva um programa (usando um array de contadores) que determine quantos vendedores receberam salários nos seguintes intervalos de valores:\n",
    "<pre>\n",
    "$200 - $299\n",
    "$300 - $399\n",
    "$400 - $499\n",
    "$500 - $599\n",
    "$600 - $699\n",
    "$700 - $799\n",
    "$800 - $899\n",
    "$900 - $999\n",
    "$1000 em diante\n",
    "</pre>\n",
    "\n",
    "Existem várias formas de fazer. Faça primeiro da forma que parecer mais intuitiva para você.\n",
    "\n",
    "Em seguida, caso queira um desafio:\n",
    "Desafio: Crie uma forma para chegar na posição da lista a partir do salário, sem fazer vários ifs aninhados."
   ]
  },
  {
   "cell_type": "code",
   "execution_count": 56,
   "id": "fc6eaae4",
   "metadata": {
    "id": "fc6eaae4"
   },
   "outputs": [
    {
     "name": "stdout",
     "output_type": "stream",
     "text": [
      "[290.0, 380.0, 470.0, 560.0, 650.0, 740.0, 695.0, 605.0, 524.0]\n",
      "$200 - $299 : 1\n"
     ]
    }
   ],
   "source": [
    "vendas = [1000, 2000, 3000, 4000, 5000, 6000, 5500, 4500, 3600]\n",
    "\n",
    "salario = []\n",
    "\n",
    "for venda in vendas:\n",
    "    salario.append(venda * 0.09 + 200)\n",
    "print(salario)\n",
    "\n",
    "cont_700 = 0\n",
    "cont_600_699 = 0\n",
    "cont_500_599 = 0\n",
    "cont_400_499 = 0\n",
    "cont_300_399 = 0\n",
    "cont_200_299 = 0\n",
    "for sal in salario:\n",
    "    if sal >= 700:\n",
    "        cont_700 += 1\n",
    "    elif sal >= 600:\n",
    "        cont_600_699 += 1\n",
    "    elif sal >= 500:\n",
    "        cont_500_599 += 1\n",
    "    elif sal >= 400:\n",
    "        cont_400_499 += 1\n",
    "    elif sal >= 300:\n",
    "        cont_300_399 += 1\n",
    "    else:\n",
    "        cont_200_299 += 1\n",
    "\n",
    "print('$200 - $299 : {}'.format(cont_200_299))"
   ]
  },
  {
   "cell_type": "code",
   "execution_count": null,
   "id": "4e51bd42",
   "metadata": {},
   "outputs": [],
   "source": []
  }
 ],
 "metadata": {
  "colab": {
   "provenance": []
  },
  "kernelspec": {
   "display_name": "Python 3 (ipykernel)",
   "language": "python",
   "name": "python3"
  },
  "language_info": {
   "codemirror_mode": {
    "name": "ipython",
    "version": 3
   },
   "file_extension": ".py",
   "mimetype": "text/x-python",
   "name": "python",
   "nbconvert_exporter": "python",
   "pygments_lexer": "ipython3",
   "version": "3.9.12"
  }
 },
 "nbformat": 4,
 "nbformat_minor": 5
}
