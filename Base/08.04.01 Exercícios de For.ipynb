{
 "cells": [
  {
   "cell_type": "markdown",
   "metadata": {},
   "source": [
    "# Exercícios\n",
    "\n",
    "## 1. Criando um Registro de Hóspedes\n",
    "\n",
    "Digamos que você está criando o sistema para registrar a chegada de hóspedes em um hotel. No hotel, os hóspedes podem ter quartos com 1, 2, 3 e 4 pessoas. Seu sistema deve conseguir:\n",
    "\n",
    "1. Identificar quantas pessoas o hóspede que acabou de chegar vai ter no quarto (perguntando por meio de input)\n",
    "2. De acordo com a quantidade de pessoas do hóspede, ele deve fazer um for para perguntar o cpf e o nome de cada pessoa, a fim de registrá-la no quarto (2 inputs para cada pessoa, 1 para o cpf e outro para o nome)\n",
    "3. O seu programa então deve gerar uma lista com todas as pessoas que ficarão no quarto em que cada item dessa lista é o nome da pessoa e o cpf da pessoa, assim:"
   ]
  },
  {
   "cell_type": "raw",
   "metadata": {},
   "source": [
    "quarto = [\n",
    "    ['João', 'cpf:00000000000'],\n",
    "    ['Julia', 'cpf:11111111111'],\n",
    "    ['Marcus', 'cpf:22222222222'],\n",
    "    ['Maria', 'cpf:33333333333'],\n",
    "]"
   ]
  },
  {
   "cell_type": "markdown",
   "metadata": {},
   "source": [
    "- Para simplificar, não vamos nos preocupar com possibilidades de \"tentar colocar mais de 1 hóspede, digitar o cpf errado, etc. Nosso objetivo é treinar a criação de uma rotina de cadastro"
   ]
  },
  {
   "cell_type": "code",
   "execution_count": 2,
   "metadata": {},
   "outputs": [
    {
     "name": "stdout",
     "output_type": "stream",
     "text": [
      "Diga quantas pessoas vao estar no quarto (maximo é 4): 3\n",
      "Digite o nome da pessoa: mi\n",
      "Digite o cpf da pessoa: 11111\n",
      "Digite o nome da pessoa: joana\n",
      "Digite o cpf da pessoa: 22222\n",
      "Digite o nome da pessoa: ana\n",
      "Digite o cpf da pessoa: 2222333\n",
      "[['mi', '11111'], ['joana', '22222'], ['ana', '2222333']]\n"
     ]
    }
   ],
   "source": [
    "#seu código aqui\n",
    "hospede = int(input('Diga quantas pessoas vao estar no quarto (maximo é 4): '))\n",
    "\n",
    "quarto = []\n",
    "\n",
    "\n",
    "\n",
    "for pessoa in range(hospede):\n",
    "    nome = input('Digite o nome da pessoa: ')\n",
    "    cpf = input('Digite o cpf da pessoa: ')\n",
    "    pessoa_info = [nome,cpf]\n",
    "    quarto.append(pessoa_info)\n",
    "\n",
    "    \n",
    "\n",
    "#print(quarto)\n",
    "\n",
    "print(quarto)"
   ]
  },
  {
   "cell_type": "markdown",
   "metadata": {},
   "source": [
    "## 2. Análise de Vendas\n",
    "\n",
    "Nesse exercício vamos fazer uma \"análise simples\" de atingimento de Meta.\n",
    "\n",
    "Temos uma lista com os vendedores e os valores de vendas e queremos identificar (printar) quais os vendedores que bateram a meta e qual foi o valor que eles venderam."
   ]
  },
  {
   "cell_type": "code",
   "execution_count": 6,
   "metadata": {},
   "outputs": [
    {
     "name": "stdout",
     "output_type": "stream",
     "text": [
      "['João', 15000]\n",
      "['Julia', 27000]\n",
      "['Ana', 10300]\n"
     ]
    }
   ],
   "source": [
    "meta = 10000\n",
    "vendas = [\n",
    "    ['João', 15000],\n",
    "    ['Julia', 27000],\n",
    "    ['Marcus', 9900],\n",
    "    ['Maria', 3750],\n",
    "    ['Ana', 10300],\n",
    "    ['Alon', 7870],\n",
    "]\n",
    "#seu código aqui\n",
    "for venda in vendas:\n",
    "    if venda[1] >= meta:\n",
    "        print(venda)"
   ]
  },
  {
   "cell_type": "markdown",
   "metadata": {},
   "source": [
    "## 3. Comparação com Ano Anterior\n",
    "\n",
    "Digamos que você está analisando as vendas de produtos de um ecommerce e quer identificar quais produtos tiveram no ano de 2020 mais vendas do que no ano de 2019, para reportar isso para a diretoria.\n",
    "\n",
    "Sua resposta pode ser um print de cada produto, qual foi a venda de 2019, a venda de 2020 e o % de crescimento de 2020 para 2019.\n",
    "\n",
    "Lembrando, para calcular o % de crescimento de um produto de um ano para o outro, podemos fazer: (vendas_produto2020/vendas_produto2019 - 1)\n",
    "\n",
    "Dica: lembre do enumerate, ele pode facilitar seu \"for\""
   ]
  },
  {
   "cell_type": "code",
   "execution_count": 13,
   "metadata": {},
   "outputs": [
    {
     "name": "stdout",
     "output_type": "stream",
     "text": [
      "iphone. Vendas em 2019: 558,147. Vendas em 2020: 951,642. Porcentagem de crescimento de vendas: 71%.\n",
      "tv. Vendas em 2019: 405,252. Vendas em 2020: 787,604. Porcentagem de crescimento de vendas: 94%.\n",
      "máquina de café. Vendas em 2019: 718,654. Vendas em 2020: 867,660. Porcentagem de crescimento de vendas: 21%.\n",
      "notebook dell. Vendas em 2019: 422,760. Vendas em 2020: 694,913. Porcentagem de crescimento de vendas: 64%.\n",
      "notebook hp. Vendas em 2019: 154,753. Vendas em 2020: 539,704. Porcentagem de crescimento de vendas: 249%.\n",
      "microsoft surface. Vendas em 2019: 438,508. Vendas em 2020: 667,179. Porcentagem de crescimento de vendas: 52%.\n",
      "webcam. Vendas em 2019: 237,467. Vendas em 2020: 295,633. Porcentagem de crescimento de vendas: 24%.\n",
      "caixa de som. Vendas em 2019: 489,705. Vendas em 2020: 725,316. Porcentagem de crescimento de vendas: 48%.\n",
      "microfone. Vendas em 2019: 328,311. Vendas em 2020: 644,622. Porcentagem de crescimento de vendas: 96%.\n",
      "câmera canon. Vendas em 2019: 591,120. Vendas em 2020: 994,303. Porcentagem de crescimento de vendas: 68%.\n"
     ]
    }
   ],
   "source": [
    "produtos = ['iphone', 'galaxy', 'ipad', 'tv', 'máquina de café', 'kindle', 'geladeira', 'adega', 'notebook dell', 'notebook hp', 'notebook asus', 'microsoft surface', 'webcam', 'caixa de som', 'microfone', 'câmera canon']\n",
    "vendas2019 = [558147,712350,573823,405252,718654,531580,973139,892292,422760,154753,887061,438508,237467,489705,328311,591120]\n",
    "vendas2020 = [951642,244295,26964,787604,867660,78830,710331,646016,694913,539704,324831,667179,295633,725316,644622,994303]\n",
    "#seu código aqui\n",
    "for i,venda in enumerate(vendas2020):\n",
    "    if venda > vendas2019[i]:\n",
    "        print('{}. Vendas em 2019: {:,}. Vendas em 2020: {:,}. Porcentagem de crescimento de vendas: {:.0%}.'.format(produtos[i], vendas2019[i], vendas2020[i], (vendas2020[i] / vendas2019[i] - 1)))"
   ]
  },
  {
   "cell_type": "code",
   "execution_count": null,
   "metadata": {},
   "outputs": [],
   "source": []
  }
 ],
 "metadata": {
  "kernelspec": {
   "display_name": "Python 3 (ipykernel)",
   "language": "python",
   "name": "python3"
  },
  "language_info": {
   "codemirror_mode": {
    "name": "ipython",
    "version": 3
   },
   "file_extension": ".py",
   "mimetype": "text/x-python",
   "name": "python",
   "nbconvert_exporter": "python",
   "pygments_lexer": "ipython3",
   "version": "3.9.12"
  }
 },
 "nbformat": 4,
 "nbformat_minor": 4
}
