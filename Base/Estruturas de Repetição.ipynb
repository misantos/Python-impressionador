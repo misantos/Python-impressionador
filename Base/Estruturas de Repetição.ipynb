{
 "cells": [
  {
   "cell_type": "markdown",
   "id": "ac60394f",
   "metadata": {
    "id": "ac60394f"
   },
   "source": [
    "# Estruturas de repetição\n",
    "\n",
    "<span style=\"color: red;\"><b>Todos os exercícios são feitos partindo-se do pressuposto de que todas as entradas são dadas de forma correta. Casos limite não mencionados no enunciado não são abordados porque não fazem parte do exercício.</b></span>"
   ]
  },
  {
   "cell_type": "markdown",
   "id": "017affd0",
   "metadata": {
    "id": "017affd0"
   },
   "source": [
    "#### 1. Faça um programa que peça uma nota, entre zero e dez. Mostre uma mensagem caso o valor seja inválido e continue pedindo até que o usuário informe um valor válido."
   ]
  },
  {
   "cell_type": "code",
   "execution_count": 3,
   "id": "5f12870d",
   "metadata": {
    "id": "5f12870d"
   },
   "outputs": [
    {
     "name": "stdout",
     "output_type": "stream",
     "text": [
      "Digite um numero entre 0 e 10:11\n"
     ]
    }
   ],
   "source": [
    "while True:\n",
    "    numero = int(input('Digite um numero entre 0 e 10:' ))\n",
    "    if numero < 0 or numero > 10:\n",
    "        break\n",
    "    print(numero)"
   ]
  },
  {
   "cell_type": "markdown",
   "id": "dd0c6d56",
   "metadata": {
    "id": "dd0c6d56"
   },
   "source": [
    "#### 2. Faça um programa que leia um nome de usuário e a sua senha e não aceite a senha igual ao nome do usuário, mostrando uma mensagem de erro e voltando a pedir as informações."
   ]
  },
  {
   "cell_type": "code",
   "execution_count": 5,
   "id": "f6579866",
   "metadata": {
    "id": "f6579866"
   },
   "outputs": [
    {
     "name": "stdout",
     "output_type": "stream",
     "text": [
      "Digite o nome: milena\n",
      "Digite a senha: milena\n",
      "Nome e senha nao podem ser o mesmo!\n",
      "Digite o nome: milena\n",
      "Digite a senha: milena\n",
      "Nome e senha nao podem ser o mesmo!\n",
      "Digite o nome: kkk\n",
      "Digite a senha: kkk\n",
      "Nome e senha nao podem ser o mesmo!\n",
      "Digite o nome: aaaaa\n",
      "Digite a senha: aa\n"
     ]
    }
   ],
   "source": [
    "while True:\n",
    "    nome = input('Digite o nome: ')\n",
    "    senha = input('Digite a senha: ')\n",
    "    if senha != nome:\n",
    "        break\n",
    "    print('Nome e senha nao podem ser o mesmo!')"
   ]
  },
  {
   "cell_type": "markdown",
   "id": "ed113a82",
   "metadata": {
    "id": "ed113a82"
   },
   "source": [
    "#### 3. Faça um programa que leia e valide as seguintes informações (e para cada uma delas, continue pedindo a informação até o usuário inserir corretamente):\n",
    "##### Nome: maior que 3 caracteres;\n",
    "##### Idade: entre 0 e 150;\n",
    "##### Salário: maior que zero;\n",
    "##### Sexo: 'f' ou 'm';\n",
    "##### Estado Civil: 's', 'c', 'v', 'd';"
   ]
  },
  {
   "cell_type": "code",
   "execution_count": null,
   "id": "3284f187",
   "metadata": {
    "id": "3284f187"
   },
   "outputs": [],
   "source": [
    "nome = input('Digite seu nome: ')\n",
    "while len(nome) <= 3:\n",
    "    nome = input('Nome deve ter mais de 3 caracteres. Digite seu nome: ')\n",
    "    \n",
    "idade = int(input('Digite sua idade: '))\n",
    "while idade < 0 or idade > 150:\n",
    "    idade = int(input('Idade errada. Digite sua idade: '))\n",
    "    \n",
    "salario = float(input('Digite seu salario: '))\n",
    "while salario <= 0:\n",
    "    salario = float(input('Salario invalido. Digite seu salario: '))\n",
    "\n",
    "genero = input('Informe o gênero \"f\" para feminino ou \"m\" para masculino: ')\n",
    "while not genero in ['f', 'm']:\n",
    "    print('Insira um gênero válido')\n",
    "    genero = input('Informe o gênero \"f\" para feminino ou \"m\" para masculino: ')\n",
    "    \n",
    "estado_civil = input('Digite o seu estado civil: ')\n",
    "while not estado_civil in ['s', 'c', 'v', 'd']:\n",
    "    print('Insira um estado civil válido')\n",
    "    estado_civil = input('Informe o estado civil \"s\", \"c\", \"v\" ou \"d\": ')"
   ]
  },
  {
   "cell_type": "markdown",
   "id": "2f25dceb",
   "metadata": {
    "id": "2f25dceb"
   },
   "source": [
    "#### 4. Supondo que a população de um país A seja da ordem de 80000 habitantes com uma taxa anual de crescimento de 3% e que a população de B seja 200000 habitantes com uma taxa de crescimento de 1.5%. Faça um programa que calcule e escreva o número de anos necessários para que a população do país A ultrapasse ou iguale a população do país B, mantidas as taxas de crescimento."
   ]
  },
  {
   "cell_type": "code",
   "execution_count": 3,
   "id": "7ad0f5e9",
   "metadata": {
    "id": "7ad0f5e9"
   },
   "outputs": [
    {
     "name": "stdout",
     "output_type": "stream",
     "text": [
      "515033.10280596686\n",
      "510964.41696222295\n",
      "63\n"
     ]
    }
   ],
   "source": [
    "pais_a = 80000\n",
    "pais_b = 200000\n",
    "\n",
    "contador = 0\n",
    "\n",
    "while pais_a < pais_b:\n",
    "    pais_a += pais_a * 0.03\n",
    "    pais_b += pais_b * 0.015\n",
    "    contador += 1 \n",
    "\n",
    "print(pais_a)\n",
    "print(pais_b)\n",
    "print(contador)"
   ]
  },
  {
   "cell_type": "markdown",
   "id": "e9626858",
   "metadata": {
    "id": "e9626858"
   },
   "source": [
    "#### 5. Altere o programa anterior permitindo ao usuário informar as populações e as taxas de crescimento iniciais. Valide a entrada e permita repetir a operação."
   ]
  },
  {
   "cell_type": "code",
   "execution_count": 6,
   "id": "c7e250a4",
   "metadata": {
    "id": "c7e250a4"
   },
   "outputs": [
    {
     "name": "stdout",
     "output_type": "stream",
     "text": [
      "Digite a população do pais A: 0\n",
      "Invalido. Digite a população do pais A: 1\n",
      "Digite a taxa de crescimento do pais A: 0\n",
      "Invalido. Digite a taxa de crescimento do pais A: 1\n",
      "Digite a população do pais B: 0\n",
      "Invalido. Digite a população do pais B: 1\n",
      "Digite a taxa de crescimento do pais B: 1\n",
      "1\n",
      "1\n",
      "0\n"
     ]
    }
   ],
   "source": [
    "pais_a = int(input('Digite a população do pais A: '))\n",
    "while pais_a <= 0:\n",
    "    pais_a = int(input('Invalido. Digite a população do pais A: '))\n",
    "\n",
    "taxa_A = float(input('Digite a taxa de crescimento do pais A: '))\n",
    "while taxa_A <= 0:\n",
    "    taxa_A = int(input('Invalido. Digite a taxa de crescimento do pais A: '))\n",
    "    \n",
    "pais_b = int(input('Digite a população do pais B: '))\n",
    "while pais_b <= 0:\n",
    "    pais_b = int(input('Invalido. Digite a população do pais B: '))\n",
    "    \n",
    "taxa_B = float(input('Digite a taxa de crescimento do pais B: '))\n",
    "while taxa_B <= 0:\n",
    "    taxa_B = int(input('Invalido. Digite a taxa de crescimento do pais B: '))\n",
    "\n",
    "contador = 0\n",
    "\n",
    "while pais_a < pais_b:\n",
    "    pais_a += pais_a * taxa_A\n",
    "    pais_b += pais_b * taxa_B\n",
    "    contador += 1 \n",
    "\n",
    "print(pais_a)\n",
    "print(pais_b)\n",
    "print(contador)"
   ]
  },
  {
   "cell_type": "markdown",
   "id": "b3d268b5",
   "metadata": {
    "id": "b3d268b5"
   },
   "source": [
    "#### 6. Faça um programa que peça para o usuário inserir o faturamento dos últimos 5 meses (individualmente) e informe o maior faturamento"
   ]
  },
  {
   "cell_type": "code",
   "execution_count": 8,
   "id": "8078e7a5",
   "metadata": {
    "id": "8078e7a5"
   },
   "outputs": [
    {
     "name": "stdout",
     "output_type": "stream",
     "text": [
      "Digite o faturamento do mes 080\n",
      "Digite o faturamento do mes 1100\n",
      "Digite o faturamento do mes 230\n",
      "Digite o faturamento do mes 390\n",
      "Digite o faturamento do mes 445.\n",
      "100.0\n"
     ]
    }
   ],
   "source": [
    "lista = []\n",
    "for i in range(5):\n",
    "    faturamento = float(input('Digite o faturamento do mes ' + str(i)))\n",
    "    lista.append(faturamento)\n",
    "\n",
    "lista.sort(reverse=True)\n",
    "print(lista[0])"
   ]
  },
  {
   "cell_type": "markdown",
   "id": "6407824c",
   "metadata": {
    "id": "6407824c"
   },
   "source": [
    "#### 7. Faça um programa que peça para o usuário inserir o faturamento dos últimos 5 meses (individualmente) e informe o faturamento total (soma) e o faturamento médio por mês (média)."
   ]
  },
  {
   "cell_type": "code",
   "execution_count": 9,
   "id": "a02320d1",
   "metadata": {
    "id": "a02320d1"
   },
   "outputs": [
    {
     "name": "stdout",
     "output_type": "stream",
     "text": [
      "Digite o faturamento do mes 0: 90\n",
      "Digite o faturamento do mes 1: 60\n",
      "Digite o faturamento do mes 2: 30\n",
      "Digite o faturamento do mes 3: 50\n",
      "Digite o faturamento do mes 4: 100\n",
      "330.0\n",
      "66.0\n"
     ]
    }
   ],
   "source": [
    "lista = []\n",
    "for i in range(5):\n",
    "    faturamento = float(input('Digite o faturamento do mes ' + str(i) + ': '))\n",
    "    lista.append(faturamento)\n",
    "soma = sum(lista)\n",
    "print(soma)\n",
    "print(soma / 5)"
   ]
  },
  {
   "cell_type": "markdown",
   "id": "703f3c4d",
   "metadata": {
    "id": "703f3c4d"
   },
   "source": [
    "#### 8. Faça um programa que consiga categorizar a idade das equipes de uma empresa. Faça um programa que peça para n pessoas a sua idade, ao final o programa devera verificar se a média de idade da equipe varia entre 0 e 25 (jovem) ,26 e 60 (sênior) e maior que 60 (idosa); e então, dizer se a equipe é jovem, sênior ou idosa, conforme a média calculada."
   ]
  },
  {
   "cell_type": "code",
   "execution_count": 16,
   "id": "b56a85de",
   "metadata": {
    "id": "b56a85de"
   },
   "outputs": [
    {
     "name": "stdout",
     "output_type": "stream",
     "text": [
      "Digite a sua idade: 50\n",
      "Digite a sua idade: 30\n",
      "Digite a sua idade: 55\n",
      "Digite a sua idade: 26\n",
      "Digite a sua idade: 35\n",
      "Digite a sua idade: 0\n",
      "senior\n"
     ]
    }
   ],
   "source": [
    "n = 0\n",
    "idades = 0\n",
    "media = 0\n",
    "idade = int(input('Digite a sua idade: '))\n",
    "while idade != 0:\n",
    "    n += 1\n",
    "    idades += idade\n",
    "    media = idades / n\n",
    "    idade = int(input('Digite a sua idade: '))\n",
    "\n",
    "if media <= 25:\n",
    "    print('jovem')\n",
    "elif media > 60:\n",
    "    print('idosa')\n",
    "else:\n",
    "    print('senior')"
   ]
  },
  {
   "cell_type": "markdown",
   "id": "aad21b98",
   "metadata": {
    "id": "aad21b98"
   },
   "source": [
    "#### 9. Numa eleição existem três candidatos. Faça um programa que peça o número total de eleitores. Peça para cada eleitor votar e ao final mostrar o número de votos de cada candidato."
   ]
  },
  {
   "cell_type": "code",
   "execution_count": 17,
   "id": "84aa7a93",
   "metadata": {
    "id": "84aa7a93"
   },
   "outputs": [
    {
     "name": "stdout",
     "output_type": "stream",
     "text": [
      "Digite o total de eleitores: 10\n",
      "Digite o seu voto: 22\n",
      "Digite o seu voto: 13\n",
      "Digite o seu voto: 10\n",
      "Digite o seu voto: 5\n",
      "Voto nulo\n",
      "Digite o seu voto: 22\n",
      "Digite o seu voto: 13\n",
      "Digite o seu voto: 10\n",
      "Digite o seu voto: 13\n",
      "Digite o seu voto: 22\n",
      "Digite o seu voto: 22\n",
      "O 22 teve um total de 4 votos\n",
      "O 13 teve um total de 3 votos\n",
      "O 10 teve um total de 2 votos\n"
     ]
    }
   ],
   "source": [
    "candidato_a = 22\n",
    "candidato_b = 13\n",
    "candidato_c = 10\n",
    "\n",
    "cont_a = 0\n",
    "cont_b = 0\n",
    "cont_c = 0\n",
    "nulo = 0\n",
    "\n",
    "eleitores = int(input('Digite o total de eleitores: '))\n",
    "while eleitores != 0:\n",
    "    voto = int(input('Digite o seu voto: '))\n",
    "    if voto == candidato_a:\n",
    "        cont_a += 1\n",
    "    elif voto == candidato_b:\n",
    "        cont_b += 1\n",
    "    elif voto == candidato_c:\n",
    "        cont_c += 1\n",
    "    else:\n",
    "        print('Voto nulo')\n",
    "        nulo += 1\n",
    "    eleitores -= 1\n",
    "\n",
    "print('O {} teve um total de {} votos'.format(candidato_a,cont_a))\n",
    "print('O {} teve um total de {} votos'.format(candidato_b,cont_b))\n",
    "print('O {} teve um total de {} votos'.format(candidato_c,cont_c))"
   ]
  },
  {
   "cell_type": "markdown",
   "id": "6e306453",
   "metadata": {
    "id": "6e306453"
   },
   "source": [
    "#### 10. Faça um programa que calcule o valor total investido por um colecionador em sua coleção de CDs e o valor médio gasto em cada um deles. O usuário deverá informar a quantidade de CDs e o valor para em cada um."
   ]
  },
  {
   "cell_type": "code",
   "execution_count": 18,
   "id": "6b7fa4a2",
   "metadata": {
    "id": "6b7fa4a2"
   },
   "outputs": [
    {
     "name": "stdout",
     "output_type": "stream",
     "text": [
      "Informe a quatidade de CDs: 10\n",
      "Informe o preço do 1º CD: 15\n",
      "Informe o preço do 2º CD: 15\n",
      "Informe o preço do 3º CD: 20\n",
      "Informe o preço do 4º CD: 25\n",
      "Informe o preço do 5º CD: 30\n",
      "Informe o preço do 6º CD: 10\n",
      "Informe o preço do 7º CD: 10\n",
      "Informe o preço do 8º CD: 8\n",
      "Informe o preço do 9º CD: 15\n",
      "Informe o preço do 10º CD: 20\n",
      "A média é de R$ 16.8 por CD\n"
     ]
    }
   ],
   "source": [
    "qtde = int(input(f'Informe a quatidade de CDs: '))\n",
    "total = 0\n",
    "\n",
    "for i in range(qtde):\n",
    "    valor = int(input(f'Informe o preço do {i+1}º CD: '))\n",
    "    total += valor\n",
    "\n",
    "print(f'A média é de R$ {total/qtde} por CD')"
   ]
  },
  {
   "cell_type": "markdown",
   "id": "f19c8d86",
   "metadata": {
    "id": "f19c8d86"
   },
   "source": [
    "#### 11. O Sr. Manoel Joaquim possui uma grande loja de artigos de R\\\\$ 1,99, com cerca de 10 caixas. Para agilizar o cálculo de quanto cada cliente deve pagar ele desenvolveu um tabela que contém o número de itens que o cliente comprou e ao lado o valor da conta. Desta forma a atendente do caixa precisa apenas contar quantos itens o cliente está levando e olhar na tabela de preços. Você foi contratado para desenvolver o programa que monta esta tabela de preços, que conterá os preços de 1 até 50 produtos, conforme o exemplo abaixo:\n",
    "<pre>\n",
    "Lojas Quase Dois - Tabela de preços\n",
    "1 - R$ 1.99\n",
    "2 - R$ 3.98\n",
    "...\n",
    "50 - R$ 99.50\n",
    "</pre>"
   ]
  },
  {
   "cell_type": "code",
   "execution_count": null,
   "id": "4fc4d54d",
   "metadata": {
    "id": "4fc4d54d"
   },
   "outputs": [],
   "source": []
  },
  {
   "cell_type": "markdown",
   "id": "6cd19c52",
   "metadata": {
    "id": "6cd19c52"
   },
   "source": [
    "#### 12. Um funcionário de uma empresa recebe aumento salarial anualmente: Sabe-se que:\n",
    "<pre>\n",
    "Esse funcionário foi contratado em 1995, com salário inicial de R$ 1.000,00;\n",
    "Em 1996 recebeu aumento de 1,5% sobre seu salário inicial;\n",
    "A partir de 1997 (inclusive), os aumentos salariais sempre correspondem ao dobro do percentual do ano anterior. Faça um programa que determine o salário desse funcionário em 2003. \n",
    "</pre>"
   ]
  },
  {
   "cell_type": "code",
   "execution_count": null,
   "id": "98a4811b",
   "metadata": {
    "id": "98a4811b"
   },
   "outputs": [],
   "source": []
  },
  {
   "cell_type": "markdown",
   "id": "227928d1",
   "metadata": {
    "id": "227928d1"
   },
   "source": [
    "#### 13. O cardápio de uma lanchonete é o seguinte:\n",
    "<pre>\n",
    "Especificação   Código  Preço\n",
    "Cachorro Quente 100     R$ 1,20\n",
    "Bauru Simples   101     R$ 1,30\n",
    "Bauru com ovo   102     R$ 1,50\n",
    "Hambúrguer      103     R$ 1,20\n",
    "Cheeseburguer   104     R$ 1,30\n",
    "Refrigerante    105     R$ 1,00\n",
    "Faça um programa que leia o código dos itens pedidos e as quantidades desejadas. Calcule e mostre o valor a ser pago por item (preço * quantidade) e o total geral do pedido. Considere que o cliente deve informar quando o pedido deve ser encerrado.\n",
    "</pre>"
   ]
  },
  {
   "cell_type": "code",
   "execution_count": null,
   "id": "8a784b86",
   "metadata": {
    "id": "8a784b86"
   },
   "outputs": [],
   "source": []
  },
  {
   "cell_type": "markdown",
   "id": "9877b8ba",
   "metadata": {
    "id": "9877b8ba"
   },
   "source": [
    "#### 14. Uma grande emissora de televisão quer fazer uma enquete entre os seus telespectadores para saber qual o melhor jogador após cada jogo. Para isto, faz-se necessário o desenvolvimento de um programa, que será utilizado pelas telefonistas, para a computação dos votos. Sua equipe foi contratada para desenvolver este programa, utilizando a linguagem de programação Python. Para computar cada voto, a telefonista digitará um número, entre 1 e 23, correspondente ao número da camisa do jogador. Um número de jogador igual zero, indica que a votação foi encerrada. Se um número inválido for digitado, o programa deve ignorá-lo, mostrando uma breve mensagem de aviso, e voltando a pedir outro número. Após o final da votação, o programa deverá exibir:\n",
    "<pre>a. O total de votos computados;\n",
    "b. Os números e respectivos votos de todos os jogadores que receberam votos;\n",
    "c. O percentual de votos de cada um destes jogadores;\n",
    "d. O número do jogador escolhido como o melhor jogador da partida, juntamente com o número de votos e o percentual de votos dados a ele.\n",
    "        Observe que os votos inválidos e o zero final não devem ser computados como votos. O resultado aparece ordenado pelo número do jogador. O programa deve fazer uso de arrays. O programa deverá executar o cálculo do percentual de cada jogador através de uma função. Esta função receberá dois parâmetros: o número de votos de um jogador e o total de votos. A função calculará o percentual e retornará o valor calculado. Abaixo segue uma tela de exemplo. O disposição das informações deve ser o mais próxima possível ao exemplo. Os dados são fictícios e podem mudar a cada execução do programa. Ao final, o programa deve ainda gravar os dados referentes ao resultado da votação em um arquivo texto no disco, obedecendo a mesma disposição apresentada na tela.</pre>\n",
    "```\n",
    "Enquete: Quem foi o melhor jogador?\n",
    "\n",
    "Número do jogador (0=fim): 9\n",
    "Número do jogador (0=fim): 10\n",
    "Número do jogador (0=fim): 9\n",
    "Número do jogador (0=fim): 10\n",
    "Número do jogador (0=fim): 11\n",
    "Número do jogador (0=fim): 10\n",
    "Número do jogador (0=fim): 50\n",
    "Informe um valor entre 1 e 23 ou 0 para sair!\n",
    "Número do jogador (0=fim): 9\n",
    "Número do jogador (0=fim): 9\n",
    "Número do jogador (0=fim): 0\n",
    "\n",
    "Resultado da votação:\n",
    "\n",
    "Foram computados 8 votos.\n",
    "\n",
    "Jogador Votos           %\n",
    "9               4               50,0%\n",
    "10              3               37,5%\n",
    "11              1               12,5%\n",
    "``` "
   ]
  },
  {
   "cell_type": "code",
   "execution_count": null,
   "id": "79b82364",
   "metadata": {
    "id": "79b82364"
   },
   "outputs": [],
   "source": []
  }
 ],
 "metadata": {
  "colab": {
   "collapsed_sections": [],
   "provenance": []
  },
  "kernelspec": {
   "display_name": "Python 3 (ipykernel)",
   "language": "python",
   "name": "python3"
  },
  "language_info": {
   "codemirror_mode": {
    "name": "ipython",
    "version": 3
   },
   "file_extension": ".py",
   "mimetype": "text/x-python",
   "name": "python",
   "nbconvert_exporter": "python",
   "pygments_lexer": "ipython3",
   "version": "3.9.12"
  }
 },
 "nbformat": 4,
 "nbformat_minor": 5
}
